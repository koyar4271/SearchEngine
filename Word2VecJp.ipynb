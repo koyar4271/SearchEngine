{
 "cells": [
  {
   "cell_type": "code",
   "execution_count": 3,
   "id": "4da4a65e",
   "metadata": {},
   "outputs": [],
   "source": [
    "from gensim.models import KeyedVectors\n",
    "model_dir = './entity_vector.model.bin'\n",
    "model = KeyedVectors.load_word2vec_format(model_dir, binary=True)\n"
   ]
  },
  {
   "cell_type": "code",
   "execution_count": 4,
   "id": "0a46f3a6",
   "metadata": {},
   "outputs": [
    {
     "name": "stdout",
     "output_type": "stream",
     "text": [
      "('[カプコン]', 0.852888286113739)\n",
      "('[セガ]', 0.8248280882835388)\n",
      "('[ソニー・コンピュータエンタテインメント]', 0.8245969414710999)\n",
      "('[ハドソン]', 0.8218287229537964)\n",
      "('[タイトー]', 0.8103316426277161)\n",
      "('セガ', 0.803926408290863)\n",
      "('[SNK]', 0.7968640327453613)\n",
      "('任天堂', 0.79667067527771)\n",
      "('[バンプレスト]', 0.7961214780807495)\n",
      "('[コナミ]', 0.7955678105354309)\n"
     ]
    }
   ],
   "source": [
    "results = model.most_similar(u'[任天堂]')\n",
    "for result in results:\n",
    "    print(result)"
   ]
  },
  {
   "cell_type": "code",
   "execution_count": 5,
   "id": "f6b9b6cc",
   "metadata": {},
   "outputs": [
    {
     "name": "stdout",
     "output_type": "stream",
     "text": [
      "('[ロナウド]', 0.6781752109527588)\n",
      "('[ジネディーヌ・ジダン]', 0.6686528325080872)\n",
      "('[中田英寿]', 0.6643422245979309)\n",
      "('[ジーコ]', 0.6631736755371094)\n",
      "('[ロベルト・バッジョ]', 0.6589246988296509)\n",
      "('[ロナウジーニョ]', 0.6574504971504211)\n",
      "('[ディエゴ・マラドーナ]', 0.653502881526947)\n",
      "('ジダン', 0.6474759578704834)\n",
      "('[デビッド・ベッカム]', 0.6473382711410522)\n",
      "('[三浦知良]', 0.6451823115348816)\n"
     ]
    }
   ],
   "source": [
    "results = model.most_similar(positive=[u'[イチロー]',u'[サッカー]'],negative=[u'[野球]'])\n",
    "for result in results:\n",
    "    print(result)"
   ]
  },
  {
   "cell_type": "code",
   "execution_count": 6,
   "id": "069ad9da",
   "metadata": {},
   "outputs": [],
   "source": [
    "import numpy as np\n",
    "def distance(model, word1, word2):\n",
    "    try:\n",
    "        v1 = model[word1]\n",
    "        v2 = model[word2]\n",
    "        cos_sim = 1 - np.dot(v1, v2)/(np.linalg.norm(v1)*np.linalg.norm(v2))\n",
    "        distance = 1 - cos_sim\n",
    "        return distance\n",
    "    except KeyError as s:\n",
    "        print(\"Error: words not in vocabulary\")\n",
    "        return None"
   ]
  },
  {
   "cell_type": "code",
   "execution_count": 7,
   "id": "18f8ed42",
   "metadata": {},
   "outputs": [
    {
     "name": "stdout",
     "output_type": "stream",
     "text": [
      "[('[藤井秀悟]', 0.4272890090942383), ('[江藤智]', 0.42727527022361755), ('[桧山進次郎]', 0.420988529920578), ('落合監督', 0.4121949076652527), ('[デレク・ジーター]', 0.4100385010242462), ('[嶋重宣]', 0.40958651900291443), ('張本', 0.4077916443347931), ('[アルフォンソ・ソリアーノ]', 0.4067278504371643), ('[坂本勇人]', 0.4024195373058319), ('[川崎憲次郎]', 0.39959678053855896)]\n"
     ]
    }
   ],
   "source": [
    "print(model.most_similar(positive=[u'[イチロー]'],negative=[u'[野球]']))"
   ]
  },
  {
   "cell_type": "code",
   "execution_count": 10,
   "id": "5d6cb8e3",
   "metadata": {},
   "outputs": [
    {
     "name": "stdout",
     "output_type": "stream",
     "text": [
      "[('[藤川球児]', 0.7892636060714722), ('[中田翔]', 0.7745433449745178), ('[菅野智之]', 0.7743439674377441), ('[和田毅]', 0.7724326252937317), ('[二岡智宏]', 0.765256941318512), ('[ダルビッシュ有]', 0.7652340531349182), ('[平松政次]', 0.7624835968017578), ('[石井一久]', 0.7610901594161987), ('[田中将大]', 0.7578378319740295), ('[工藤公康]', 0.7568435072898865)]\n"
     ]
    }
   ],
   "source": [
    "print(model.most_similar(u'[大谷翔平]'))"
   ]
  },
  {
   "cell_type": "code",
   "execution_count": null,
   "id": "b872abc3",
   "metadata": {},
   "outputs": [],
   "source": []
  }
 ],
 "metadata": {
  "kernelspec": {
   "display_name": "Python 3 (ipykernel)",
   "language": "python",
   "name": "python3"
  },
  "language_info": {
   "codemirror_mode": {
    "name": "ipython",
    "version": 3
   },
   "file_extension": ".py",
   "mimetype": "text/x-python",
   "name": "python",
   "nbconvert_exporter": "python",
   "pygments_lexer": "ipython3",
   "version": "3.8.10"
  }
 },
 "nbformat": 4,
 "nbformat_minor": 5
}
