{
 "cells": [
  {
   "cell_type": "code",
   "execution_count": 4,
   "id": "89214d33",
   "metadata": {},
   "outputs": [
    {
     "name": "stderr",
     "output_type": "stream",
     "text": [
      "[nltk_data] Downloading package brown to\n",
      "[nltk_data]     C:\\Users\\koyar\\AppData\\Roaming\\nltk_data...\n",
      "[nltk_data]   Package brown is already up-to-date!\n"
     ]
    },
    {
     "ename": "TypeError",
     "evalue": "__init__() got an unexpected keyword argument 'size'",
     "output_type": "error",
     "traceback": [
      "\u001b[1;31m---------------------------------------------------------------------------\u001b[0m",
      "\u001b[1;31mTypeError\u001b[0m                                 Traceback (most recent call last)",
      "Cell \u001b[1;32mIn[4], line 40\u001b[0m\n\u001b[0;32m     36\u001b[0m     data\u001b[38;5;241m.\u001b[39mappend(new_sent)\n\u001b[0;32m     38\u001b[0m \u001b[38;5;66;03m# Creating Word2Vec\u001b[39;00m\n\u001b[1;32m---> 40\u001b[0m model \u001b[38;5;241m=\u001b[39m \u001b[43mWord2Vec\u001b[49m\u001b[43m(\u001b[49m\n\u001b[0;32m     41\u001b[0m \n\u001b[0;32m     42\u001b[0m \u001b[43m    \u001b[49m\u001b[43msentences\u001b[49m\u001b[43m \u001b[49m\u001b[38;5;241;43m=\u001b[39;49m\u001b[43m \u001b[49m\u001b[43mdata\u001b[49m\u001b[43m,\u001b[49m\n\u001b[0;32m     43\u001b[0m \n\u001b[0;32m     44\u001b[0m \u001b[43m    \u001b[49m\u001b[43msize\u001b[49m\u001b[43m \u001b[49m\u001b[38;5;241;43m=\u001b[39;49m\u001b[43m \u001b[49m\u001b[38;5;241;43m50\u001b[39;49m\u001b[43m,\u001b[49m\n\u001b[0;32m     45\u001b[0m \n\u001b[0;32m     46\u001b[0m \u001b[43m    \u001b[49m\u001b[43mwindow\u001b[49m\u001b[43m \u001b[49m\u001b[38;5;241;43m=\u001b[39;49m\u001b[43m \u001b[49m\u001b[38;5;241;43m10\u001b[39;49m\u001b[43m,\u001b[49m\n\u001b[0;32m     47\u001b[0m \n\u001b[0;32m     48\u001b[0m \u001b[43m    \u001b[49m\u001b[38;5;28;43miter\u001b[39;49m\u001b[43m \u001b[49m\u001b[38;5;241;43m=\u001b[39;49m\u001b[43m \u001b[49m\u001b[38;5;241;43m20\u001b[39;49m\u001b[43m,\u001b[49m\n\u001b[0;32m     49\u001b[0m \u001b[43m)\u001b[49m\n\u001b[0;32m     51\u001b[0m \u001b[38;5;66;03m# Vector for word love\u001b[39;00m\n\u001b[0;32m     53\u001b[0m \u001b[38;5;28mprint\u001b[39m(\u001b[38;5;124m\"\u001b[39m\u001b[38;5;124mVector for love:\u001b[39m\u001b[38;5;124m\"\u001b[39m)\n",
      "\u001b[1;31mTypeError\u001b[0m: __init__() got an unexpected keyword argument 'size'"
     ]
    },
    {
     "ename": "",
     "evalue": "",
     "output_type": "error",
     "traceback": [
      "\u001b[1;31m現在のセルまたは前のセルでコードを実行中に、カーネル (Kernel) がクラッシュしました。\n",
      "\u001b[1;31mエラーの原因を特定するには、セル内のコードを確認してください。\n",
      "\u001b[1;31m詳細については<a href='https://aka.ms/vscodeJupyterKernelCrash'>こちら</a>をクリックします。\n",
      "\u001b[1;31m詳細については、Jupyter <a href='command:jupyter.viewOutput'>ログ</a> を参照してください。"
     ]
    }
   ],
   "source": [
    "import string\n",
    "\n",
    "import nltk\n",
    "\n",
    "from nltk.corpus import brown\n",
    "\n",
    "from gensim.models import Word2Vec\n",
    "\n",
    "from sklearn.decomposition import PCA\n",
    "\n",
    "from matplotlib import pyplot\n",
    "\n",
    "\n",
    "nltk.download(\"brown\")\n",
    "\n",
    "# Preprocessing data to lowercase all words and remove single punctuation words\n",
    "\n",
    "document = brown.sents()\n",
    "\n",
    "data = []\n",
    "\n",
    "for sent in document:\n",
    "\n",
    "  new_sent = []\n",
    "\n",
    "  for word in sent:\n",
    "\n",
    "    new_word = word.lower()\n",
    "\n",
    "    if new_word[0] not in string.punctuation:\n",
    "\n",
    "      new_sent.append(new_word)\n",
    "\n",
    "  if len(new_sent) > 0:\n",
    "\n",
    "    data.append(new_sent)\n",
    " \n",
    "# Creating Word2Vec\n",
    "\n",
    "model = Word2Vec(\n",
    "\n",
    "    sentences = data,\n",
    "\n",
    "    size = 50,\n",
    "\n",
    "    window = 10,\n",
    "\n",
    "    iter = 20,\n",
    ")\n",
    "\n",
    "# Vector for word love\n",
    "\n",
    "print(\"Vector for love:\")\n",
    "\n",
    "print(model.wv[\"love\"])\n",
    "\n",
    "print()\n",
    "\n",
    "# Finding most similar words\n",
    "\n",
    "print(\"3 words similar to car\")\n",
    "\n",
    "words = model.most_similar(\"car\", topn=3)\n",
    "\n",
    "for word in words:\n",
    "\n",
    "  print(word)\n",
    "\n",
    "print()\n",
    "\n",
    "#Visualizing data\n",
    "\n",
    "words = [\"france\", \"germany\", \"india\", \"truck\", \"boat\", \"road\", \"teacher\", \"student\"]\n",
    "\n",
    "\n",
    "X = model.wv[words]\n",
    "\n",
    "pca = PCA(n_components=2)\n",
    "\n",
    "result = pca.fit_transform(X)\n",
    "\n",
    "\n",
    "pyplot.scatter(result[:, 0], result[:, 1])\n",
    "\n",
    "for i, word in enumerate(words):\n",
    "\n",
    "    pyplot.annotate(word, xy=(result[i, 0], result[i, 1]))\n",
    "pyplot.show()"
   ]
  },
  {
   "cell_type": "code",
   "execution_count": 2,
   "id": "4a079bf5",
   "metadata": {},
   "outputs": [
    {
     "name": "stderr",
     "output_type": "stream",
     "text": [
      "[nltk_data] Downloading package brown to\n",
      "[nltk_data]     C:\\Users\\koyar\\AppData\\Roaming\\nltk_data...\n",
      "[nltk_data]   Package brown is already up-to-date!\n"
     ]
    },
    {
     "name": "stdout",
     "output_type": "stream",
     "text": [
      "Vector for love:\n",
      "[ 0.80839187 -1.460609   -2.2284358  -0.71370924 -0.6991365  -0.08773022\n",
      "  1.3388726  -1.4108793  -2.837809   -1.761535   -1.6720482  -1.981074\n",
      "  1.5145912  -1.4746758  -0.6356058  -1.1089545   1.0845265  -0.2461168\n",
      "  0.18375826 -0.91221184 -2.350703   -0.39397538 -0.6142525   2.669699\n",
      " -2.3176954   0.62098396 -1.540315    1.4567702  -0.93072665 -1.3732091\n",
      " -1.3577904   2.5828354   0.96651834  0.23112665 -0.99725866  1.8728719\n",
      " -0.51807487  0.62120247 -2.5148714   1.6029519  -1.2238734  -2.2172444\n",
      "  0.49977276  1.6993502   0.9246211  -2.3214955   1.4913373  -4.4988666\n",
      " -1.1528038  -0.13127114]\n",
      "\n",
      "3 words similar to car\n",
      "('truck', 0.7579865455627441)\n",
      "('boat', 0.7528508305549622)\n",
      "('kitchen', 0.7431826591491699)\n",
      "\n"
     ]
    },
    {
     "data": {
      "image/png": "[encoded data removed]",
      "text/plain": [
       "<Figure size 432x288 with 1 Axes>"
      ]
     },
     "metadata": {
      "needs_background": "light"
     },
     "output_type": "display_data"
    }
   ],
   "source": [
    "import string\n",
    "import nltk\n",
    "from nltk.corpus import brown\n",
    "from gensim.models import Word2Vec\n",
    "from sklearn.decomposition import PCA\n",
    "from matplotlib import pyplot as plt\n",
    "\n",
    "nltk.download(\"brown\")\n",
    "\n",
    "# データの前処理：すべての単語を小文字にし、一文字の句読点を削除\n",
    "document = brown.sents()\n",
    "data = []\n",
    "\n",
    "for sent in document:\n",
    "    new_sent = []\n",
    "    for word in sent:\n",
    "        new_word = word.lower()\n",
    "        if new_word[0] not in string.punctuation:\n",
    "            new_sent.append(new_word)\n",
    "    if len(new_sent) > 0:\n",
    "        data.append(new_sent)\n",
    "\n",
    "# Word2Vec モデルの作成\n",
    "model = Word2Vec(\n",
    "    sentences=data,\n",
    "    vector_size=50,  # size を vector_size に変更\n",
    "    window=10,\n",
    "    epochs=20,  # iter を epochs に変更\n",
    ")\n",
    "\n",
    "# \"love\" のベクトル\n",
    "print(\"Vector for love:\")\n",
    "print(model.wv[\"love\"])\n",
    "print()\n",
    "\n",
    "# \"car\" に似た3つの単語\n",
    "print(\"3 words similar to car\")\n",
    "words = model.wv.most_similar(\"car\", topn=3)\n",
    "\n",
    "for word in words:\n",
    "    print(word)\n",
    "print()\n",
    "\n",
    "# データの可視化\n",
    "words = [\"france\", \"germany\", \"india\", \"truck\", \"boat\", \"road\", \"teacher\", \"student\"]\n",
    "X = model.wv[words]\n",
    "\n",
    "pca = PCA(n_components=2)\n",
    "result = pca.fit_transform(X)\n",
    "\n",
    "plt.scatter(result[:, 0], result[:, 1])\n",
    "\n",
    "for i, word in enumerate(words):\n",
    "    plt.annotate(word, xy=(result[i, 0], result[i, 1]))\n",
    "plt.show()"
   ]
  },
  {
   "cell_type": "code",
   "execution_count": null,
   "id": "28aedd03",
   "metadata": {},
   "outputs": [
    {
     "name": "stdout",
     "output_type": "stream",
     "text": [
      "単語を入力してください（終了するには 'exit' と入力）：apple\n",
      "'apple' に最も近い単語:\n",
      "neat (類似度: 0.7746)\n",
      "pig (類似度: 0.7700)\n",
      "thick (類似度: 0.7555)\n",
      "単語を入力してください（終了するには 'exit' と入力）：orange\n",
      "'orange' に最も近い単語:\n",
      "green (類似度: 0.8142)\n",
      "purple (類似度: 0.8122)\n",
      "marble (類似度: 0.8095)\n",
      "単語を入力してください（終了するには 'exit' と入力）：^\n",
      "'^' はモデルのボキャブラリーに含まれていません。\n"
     ]
    }
   ],
   "source": [
    "def find_similar_words():\n",
    "    while True:\n",
    "        input_word = input(\"単語を入力してください（終了するには 'exit' と入力）：\")\n",
    "        if input_word == 'exit':\n",
    "            break\n",
    "        try:\n",
    "            similar_words = model.wv.most_similar(input_word, topn=3)\n",
    "            print(f\"'{input_word}' に最も近い単語:\")\n",
    "            for word, similarity in similar_words:\n",
    "                print(f\"{word} (類似度: {similarity:.4f})\")\n",
    "        except KeyError:\n",
    "            print(f\"'{input_word}' はモデルのボキャブラリーに含まれていません。\")\n",
    "\n",
    "find_similar_words()"
   ]
  },
  {
   "cell_type": "code",
   "execution_count": null,
   "id": "067b0a13",
   "metadata": {},
   "outputs": [],
   "source": [
    "import numpy as np\n",
    "def compute_distance_between_words():\n",
    "    while True:\n",
    "        word1 = input(\"最初の単語を入力してください（終了するには 'exit' と入力）：\")\n",
    "        if word1 == 'exit':\n",
    "            break\n",
    "        word2 = input(\"2つ目の単語を入力してください（終了するには 'exit' と入力）：\")\n",
    "        if word2 == 'exit':\n",
    "            break\n",
    "        try:\n",
    "            v1 = model.wv[word1]\n",
    "            v2 = model.wv[word2]\n",
    "            cos_sim = np.dot(v1, v2) / (np.linalg.norm(v1) * np.linalg.norm(v2))\n",
    "            distance = 1 - cos_sim\n",
    "            print(f\"'{word1}' と '{word2}' のコサイン距離: {distance:.4f}\")\n",
    "        except KeyError as e:\n",
    "            print(f\"{str(e)} はモデルのボキャブラリーに含まれていません。\")"
   ]
  },
  {
   "cell_type": "code",
   "execution_count": null,
   "id": "bdf8fc87",
   "metadata": {
    "scrolled": true
   },
   "outputs": [],
   "source": [
    "compute_distance_between_words()"
   ]
  },
  {
   "cell_type": "code",
   "execution_count": null,
   "id": "d1e2cb58",
   "metadata": {},
   "outputs": [],
   "source": []
  }
 ],
 "metadata": {
  "kernelspec": {
   "display_name": "Python 3 (ipykernel)",
   "language": "python",
   "name": "python3"
  },
  "language_info": {
   "codemirror_mode": {
    "name": "ipython",
    "version": 3
   },
   "file_extension": ".py",
   "mimetype": "text/x-python",
   "name": "python",
   "nbconvert_exporter": "python",
   "pygments_lexer": "ipython3",
   "version": "3.8.10"
  }
 },
 "nbformat": 4,
 "nbformat_minor": 5
}
