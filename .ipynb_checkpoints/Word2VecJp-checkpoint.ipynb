{
 "cells": [
  {
   "cell_type": "code",
   "execution_count": 3,
   "id": "41e0c881",
   "metadata": {},
   "outputs": [],
   "source": [
    "from gensim.models import KeyedVectors\n",
    "model_dir = './entity_vector.model.bin'\n",
    "model = KeyedVectors.load_word2vec_format(model_dir, binary=True)\n"
   ]
  },
  {
   "cell_type": "code",
   "execution_count": 4,
   "id": "993ba150",
   "metadata": {},
   "outputs": [
    {
     "name": "stdout",
     "output_type": "stream",
     "text": [
      "('[カプコン]', 0.8528883457183838)\n",
      "('[セガ]', 0.8248282074928284)\n",
      "('[ソニー・コンピュータエンタテインメント]', 0.8245970010757446)\n",
      "('[ハドソン]', 0.8218287825584412)\n",
      "('[タイトー]', 0.8103316426277161)\n",
      "('セガ', 0.803926408290863)\n",
      "('[SNK]', 0.7968641519546509)\n",
      "('任天堂', 0.79667067527771)\n",
      "('[バンプレスト]', 0.7961214184761047)\n",
      "('[コナミ]', 0.7955678105354309)\n"
     ]
    }
   ],
   "source": [
    "results = model.most_similar(u'[任天堂]')\n",
    "for result in results:\n",
    "    print(result)"
   ]
  },
  {
   "cell_type": "code",
   "execution_count": 6,
   "id": "0841ffcc",
   "metadata": {},
   "outputs": [
    {
     "name": "stdout",
     "output_type": "stream",
     "text": [
      "('[ロナウド]', 0.6781752705574036)\n",
      "('[ジネディーヌ・ジダン]', 0.6686528325080872)\n",
      "('[中田英寿]', 0.6643422245979309)\n",
      "('[ジーコ]', 0.6631737351417542)\n",
      "('[ロベルト・バッジョ]', 0.6589247584342957)\n",
      "('[ロナウジーニョ]', 0.6574504971504211)\n",
      "('[ディエゴ・マラドーナ]', 0.653502881526947)\n",
      "('ジダン', 0.6474759578704834)\n",
      "('[デビッド・ベッカム]', 0.6473382115364075)\n",
      "('[三浦知良]', 0.6451823711395264)\n"
     ]
    }
   ],
   "source": [
    "results = model.most_similar(positive=[u'[イチロー]',u'[サッカー]'],negative=[u'[野球]'])\n",
    "for result in results:\n",
    "    print(result)"
   ]
  },
  {
   "cell_type": "code",
   "execution_count": 12,
   "id": "d7b12af3",
   "metadata": {},
   "outputs": [],
   "source": [
    "import numpy as np\n",
    "def distance(model, word1, word2):\n",
    "    try:\n",
    "        v1 = model[word1]\n",
    "        v2 = model[word2]\n",
    "        cos_sim = 1 - np.dot(v1, v2)/(np.linalg.norm(v1)*np.linalg.norm(v2))\n",
    "        distance = 1 - cos_sim\n",
    "        return distance\n",
    "    except KeyError as s:\n",
    "        print(\"Error: words not in vocabulary\")\n",
    "        return None"
   ]
  },
  {
   "cell_type": "code",
   "execution_count": 10,
   "id": "3862437d",
   "metadata": {},
   "outputs": [
    {
     "ename": "NameError",
     "evalue": "name 'np' is not defined",
     "output_type": "error",
     "traceback": [
      "\u001b[1;31m---------------------------------------------------------------------------\u001b[0m",
      "\u001b[1;31mNameError\u001b[0m                                 Traceback (most recent call last)",
      "Input \u001b[1;32mIn [10]\u001b[0m, in \u001b[0;36m<cell line: 1>\u001b[1;34m()\u001b[0m\n\u001b[1;32m----> 1\u001b[0m \u001b[38;5;28mprint\u001b[39m(\u001b[43mdistance\u001b[49m\u001b[43m(\u001b[49m\u001b[43mmodel\u001b[49m\u001b[43m,\u001b[49m\u001b[43m \u001b[49m\u001b[38;5;124;43m'\u001b[39;49m\u001b[38;5;124;43mイチロー\u001b[39;49m\u001b[38;5;124;43m'\u001b[39;49m\u001b[43m,\u001b[49m\u001b[38;5;124;43m'\u001b[39;49m\u001b[38;5;124;43mロナウド\u001b[39;49m\u001b[38;5;124;43m'\u001b[39;49m\u001b[43m)\u001b[49m)\n",
      "Input \u001b[1;32mIn [7]\u001b[0m, in \u001b[0;36mdistance\u001b[1;34m(model, word1, word2)\u001b[0m\n\u001b[0;32m      3\u001b[0m v1 \u001b[38;5;241m=\u001b[39m model[word1]\n\u001b[0;32m      4\u001b[0m v2 \u001b[38;5;241m=\u001b[39m model[word2]\n\u001b[1;32m----> 5\u001b[0m cos_sim \u001b[38;5;241m=\u001b[39m \u001b[38;5;241m1\u001b[39m \u001b[38;5;241m-\u001b[39m \u001b[43mnp\u001b[49m\u001b[38;5;241m.\u001b[39mdot(v1, v2)\u001b[38;5;241m/\u001b[39m(np\u001b[38;5;241m.\u001b[39mlinalg\u001b[38;5;241m.\u001b[39mnorm(v1)\u001b[38;5;241m*\u001b[39mnp\u001b[38;5;241m.\u001b[39mlinalg\u001b[38;5;241m.\u001b[39mnorm(v2))\n\u001b[0;32m      6\u001b[0m distance \u001b[38;5;241m=\u001b[39m \u001b[38;5;241m1\u001b[39m \u001b[38;5;241m-\u001b[39m cos_sim\n\u001b[0;32m      7\u001b[0m \u001b[38;5;28;01mreturn\u001b[39;00m distance\n",
      "\u001b[1;31mNameError\u001b[0m: name 'np' is not defined"
     ]
    }
   ],
   "source": [
    "print(distance(model, 'イチロー','ロナウド'))"
   ]
  },
  {
   "cell_type": "code",
   "execution_count": null,
   "id": "536258e5",
   "metadata": {},
   "outputs": [],
   "source": []
  }
 ],
 "metadata": {
  "kernelspec": {
   "display_name": "Python 3 (ipykernel)",
   "language": "python",
   "name": "python3"
  },
  "language_info": {
   "codemirror_mode": {
    "name": "ipython",
    "version": 3
   },
   "file_extension": ".py",
   "mimetype": "text/x-python",
   "name": "python",
   "nbconvert_exporter": "python",
   "pygments_lexer": "ipython3",
   "version": "3.9.12"
  }
 },
 "nbformat": 4,
 "nbformat_minor": 5
}
