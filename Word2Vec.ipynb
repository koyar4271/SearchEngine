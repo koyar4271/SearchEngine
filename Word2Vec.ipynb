{
 "cells": [
  {
   "cell_type": "code",
   "execution_count": null,
   "id": "f8bc56c4",
   "metadata": {},
   "outputs": [],
   "source": [
    "from gensim.models import KeyedVectors\n",
    "\n",
    "model = KeyedVectors.load_word2vec_format('enwiki_20180420_100d.txt')"
   ]
  },
  {
   "cell_type": "code",
   "execution_count": null,
   "id": "653cc596",
   "metadata": {},
   "outputs": [],
   "source": [
    "model.most_similar('')"
   ]
  },
  {
   "cell_type": "code",
   "execution_count": null,
   "id": "d93a2529",
   "metadata": {},
   "outputs": [],
   "source": [
    "import numpy as np"
   ]
  },
  {
   "cell_type": "code",
   "execution_count": null,
   "id": "4ca222a7",
   "metadata": {},
   "outputs": [],
   "source": [
    "def distance(model, word1, word2):\n",
    "    try:\n",
    "        v1 = model[word1]\n",
    "        v2 = model[word2]\n",
    "        cos_sim = 1 - np.dot(v1, v2)/(np.linalg.norm(v1)*np.linalg.norm(v2))\n",
    "        distance = 1 - cos_sim\n",
    "        return distance\n",
    "    except KeyError as s:\n",
    "        print(\"Error: words not in vocabulary\")\n",
    "        return None"
   ]
  },
  {
   "cell_type": "code",
   "execution_count": null,
   "id": "9d6bcef8",
   "metadata": {},
   "outputs": [],
   "source": [
    "print(distance(model, 'apple', 'orange'))"
   ]
  },
  {
   "cell_type": "code",
   "execution_count": null,
   "id": "24b2f9c0",
   "metadata": {},
   "outputs": [],
   "source": [
    "print(model.most_similar(positive=['king','woman'],negative=['man']))"
   ]
  },
  {
   "cell_type": "code",
   "execution_count": null,
   "id": "f58a6ac9",
   "metadata": {},
   "outputs": [],
   "source": [
    "def most_dissimilar_word(model, word):\n",
    "    try:\n",
    "        v1 = model[word]\n",
    "        min_similarity = float('inf')\n",
    "        most_dissimilar = None\n",
    "        for w in model.index_to_key:\n",
    "            if w == word:\n",
    "                continue\n",
    "            v2 = model[w]\n",
    "            cos_sim = np.dot(v1, v2) / (np.linalg.norm(v1) * np.linalg.norm(v2))\n",
    "            if cos_sim < min_similarity:\n",
    "                min_similarity = cos_sim\n",
    "                most_dissimilar = w\n",
    "\n",
    "        return most_dissimilar, min_similarity\n",
    "    except KeyError:\n",
    "        print(\"Error: The word is not in the vocabulary\")\n",
    "        return None"
   ]
  },
  {
   "cell_type": "code",
   "execution_count": null,
   "id": "4138ae9d",
   "metadata": {},
   "outputs": [],
   "source": [
    "print(most_dissimilar_word(model,'man'))"
   ]
  },
  {
   "cell_type": "code",
   "execution_count": null,
   "id": "94627831",
   "metadata": {},
   "outputs": [],
   "source": [
    "print(model.most_similar(positive=[],negative=['woman']))"
   ]
  },
  {
   "cell_type": "code",
   "execution_count": null,
   "id": "09a274bd",
   "metadata": {
    "scrolled": false
   },
   "outputs": [],
   "source": [
    "model.most_similar('bottle')"
   ]
  },
  {
   "cell_type": "code",
   "execution_count": null,
   "id": "249c9290",
   "metadata": {},
   "outputs": [],
   "source": [
    "most_dissimilar_word(model,'apple')"
   ]
  },
  {
   "cell_type": "code",
   "execution_count": null,
   "id": "ac3666e3",
   "metadata": {},
   "outputs": [],
   "source": []
  },
  {
   "cell_type": "code",
   "execution_count": null,
   "id": "0de6e69e",
   "metadata": {},
   "outputs": [],
   "source": []
  }
 ],
 "metadata": {
  "kernelspec": {
   "display_name": "Python 3 (ipykernel)",
   "language": "python",
   "name": "python3"
  },
  "language_info": {
   "codemirror_mode": {
    "name": "ipython",
    "version": 3
   },
   "file_extension": ".py",
   "mimetype": "text/x-python",
   "name": "python",
   "nbconvert_exporter": "python",
   "pygments_lexer": "ipython3",
   "version": "3.9.12"
  }
 },
 "nbformat": 4,
 "nbformat_minor": 5
}
